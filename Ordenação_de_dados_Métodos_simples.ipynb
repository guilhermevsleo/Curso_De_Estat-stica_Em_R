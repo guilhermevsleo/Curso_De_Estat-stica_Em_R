{
  "nbformat": 4,
  "nbformat_minor": 0,
  "metadata": {
    "colab": {
      "provenance": [],
      "authorship_tag": "ABX9TyPPWkVKoB1gyu5rLOz8oRDF",
      "include_colab_link": true
    },
    "kernelspec": {
      "name": "python3",
      "display_name": "Python 3"
    },
    "language_info": {
      "name": "python"
    }
  },
  "cells": [
    {
      "cell_type": "markdown",
      "metadata": {
        "id": "view-in-github",
        "colab_type": "text"
      },
      "source": [
        "<a href=\"https://colab.research.google.com/github/guilhermevsleo/Curso_De_Estat-stica_Em_R/blob/main/Ordena%C3%A7%C3%A3o_de_dados_M%C3%A9todos_simples.ipynb\" target=\"_parent\"><img src=\"https://colab.research.google.com/assets/colab-badge.svg\" alt=\"Open In Colab\"/></a>"
      ]
    },
    {
      "cell_type": "code",
      "execution_count": null,
      "metadata": {
        "id": "lBJCRVRuR_39"
      },
      "outputs": [],
      "source": [
        "#Vetores e Listas em Python\n",
        "#Em Python, usamos listas como estruturas semelhantes a vetores (arrays em outras linguagens)."
      ]
    },
    {
      "cell_type": "code",
      "source": [
        "# Lista de inteiros\n",
        "numeros = [5, 2, 9, 1, 7]\n",
        "\n",
        "# Lista de strings\n",
        "nomes = [\"Ana\", \"Carlos\", \"Bruno\", \"Daniela\"]\n",
        "\n",
        "# Lista de números reais\n",
        "valores = [3.14, 2.71, 0.99, 1.01]\n",
        "\n",
        "# Lista mista (pouco comum em ordenação)\n",
        "mista = [1, \"dois\", 3.0]\n"
      ],
      "metadata": {
        "id": "vOihv971SJiD"
      },
      "execution_count": null,
      "outputs": []
    },
    {
      "cell_type": "code",
      "source": [
        "#Acessando elementos e modificando\n",
        "print(numeros[0])   # Primeiro elemento: 5\n",
        "print(numeros[-1])  # Último elemento: 7\n",
        "\n",
        "numeros[2] = 10     # Substitui o valor na posição 2\n",
        "print(numeros)      # [5, 2, 10, 1, 7]\n"
      ],
      "metadata": {
        "id": "I72jsnrHSY7J"
      },
      "execution_count": null,
      "outputs": []
    },
    {
      "cell_type": "code",
      "source": [
        "#2. Bubble Sort: passo a passo\n",
        "#Lógica\n",
        "#Percorre a lista várias vezes\n",
        "\n",
        "#A cada passagem, compara pares de elementos consecutivos\n",
        "\n",
        "#Troca se estiverem fora de ordem\n",
        "\n",
        "#Os maiores \"borbulham\" até o final da lista\n",
        "#Implementação em Python"
      ],
      "metadata": {
        "id": "swTdcouYSojR"
      },
      "execution_count": null,
      "outputs": []
    },
    {
      "cell_type": "code",
      "source": [
        "def bubble_sort(lista):\n",
        "    n = len(lista)\n",
        "    for i in range(n):\n",
        "        for j in range(0, n - i - 1):\n",
        "            if lista[j] > lista[j + 1]:\n",
        "                # troca os elementos\n",
        "                lista[j], lista[j + 1] = lista[j + 1], lista[j]\n",
        "\n",
        "# Exemplo de uso\n",
        "valores = [5, 3, 8, 1, 2]\n",
        "bubble_sort(valores)\n",
        "print(\"Lista ordenada:\", valores)\n"
      ],
      "metadata": {
        "id": "663W5GjPTxSZ"
      },
      "execution_count": null,
      "outputs": []
    },
    {
      "cell_type": "code",
      "source": [
        "def bubble_sort(lista):\n",
        "    n = len(lista)\n",
        "    for i in range(n):\n",
        "        for j in range(0, n - i - 1):\n",
        "            if lista[j] > lista[j + 1]:\n",
        "                print(f\"Trocando {lista[j]} com {lista[j + 1]}\")\n",
        "                lista[j], lista[j + 1] = lista[j + 1], lista[j]\n",
        "                print(\"Estado atual:\", lista)\n",
        "# Exemplo de uso\n",
        "valores = [5, 3, 8, 1, 2]\n",
        "bubble_sort(valores)\n",
        "print(\"Lista ordenada:\", valores)"
      ],
      "metadata": {
        "colab": {
          "base_uri": "https://localhost:8080/"
        },
        "id": "bAr3b3X0UQSv",
        "outputId": "753667f3-400d-4960-a07a-88be63f2988f"
      },
      "execution_count": 3,
      "outputs": [
        {
          "output_type": "stream",
          "name": "stdout",
          "text": [
            "Trocando 5 com 3\n",
            "Estado atual: [3, 5, 8, 1, 2]\n",
            "Trocando 8 com 1\n",
            "Estado atual: [3, 5, 1, 8, 2]\n",
            "Trocando 8 com 2\n",
            "Estado atual: [3, 5, 1, 2, 8]\n",
            "Trocando 5 com 1\n",
            "Estado atual: [3, 1, 5, 2, 8]\n",
            "Trocando 5 com 2\n",
            "Estado atual: [3, 1, 2, 5, 8]\n",
            "Trocando 3 com 1\n",
            "Estado atual: [1, 3, 2, 5, 8]\n",
            "Trocando 3 com 2\n",
            "Estado atual: [1, 2, 3, 5, 8]\n",
            "Lista ordenada: [1, 2, 3, 5, 8]\n"
          ]
        }
      ]
    },
    {
      "cell_type": "code",
      "source": [
        "def bubble_sort_passo_a_passo(lista):\n",
        "    n = len(lista)\n",
        "    print(\"Lista original:\", lista)\n",
        "\n",
        "    for i in range(n):\n",
        "        print(f\"\\nPassagem {i + 1}:\")\n",
        "        trocou = False  # Para verificar se houve troca na passagem\n",
        "        for j in range(0, n - i - 1):\n",
        "            print(f\"  Comparando {lista[j]} e {lista[j + 1]}\")\n",
        "            if lista[j] > lista[j + 1]:\n",
        "                print(f\"  -> Trocando {lista[j]} com {lista[j + 1]}\")\n",
        "                lista[j], lista[j + 1] = lista[j + 1], lista[j]\n",
        "                trocou = True\n",
        "            else:\n",
        "                print(f\"  -> Sem troca\")\n",
        "            print(\"  Estado atual:\", lista)\n",
        "\n",
        "        if not trocou:\n",
        "            print(\"  Nenhuma troca feita nesta passagem. Lista já está ordenada.\")\n",
        "            break  # Otimização: se nenhuma troca foi feita, a lista já está ordenada\n",
        "\n",
        "    print(\"\\nLista final ordenada:\", lista)\n",
        "valores = [5, 3, 4, 1, 2]\n",
        "bubble_sort_passo_a_passo(valores)\n"
      ],
      "metadata": {
        "colab": {
          "base_uri": "https://localhost:8080/"
        },
        "id": "TG8pFFB0Vc6F",
        "outputId": "6354e23b-37c0-46ad-d21b-0f67769ab890"
      },
      "execution_count": 4,
      "outputs": [
        {
          "output_type": "stream",
          "name": "stdout",
          "text": [
            "Lista original: [5, 3, 4, 1, 2]\n",
            "\n",
            "Passagem 1:\n",
            "  Comparando 5 e 3\n",
            "  -> Trocando 5 com 3\n",
            "  Estado atual: [3, 5, 4, 1, 2]\n",
            "  Comparando 5 e 4\n",
            "  -> Trocando 5 com 4\n",
            "  Estado atual: [3, 4, 5, 1, 2]\n",
            "  Comparando 5 e 1\n",
            "  -> Trocando 5 com 1\n",
            "  Estado atual: [3, 4, 1, 5, 2]\n",
            "  Comparando 5 e 2\n",
            "  -> Trocando 5 com 2\n",
            "  Estado atual: [3, 4, 1, 2, 5]\n",
            "\n",
            "Passagem 2:\n",
            "  Comparando 3 e 4\n",
            "  -> Sem troca\n",
            "  Estado atual: [3, 4, 1, 2, 5]\n",
            "  Comparando 4 e 1\n",
            "  -> Trocando 4 com 1\n",
            "  Estado atual: [3, 1, 4, 2, 5]\n",
            "  Comparando 4 e 2\n",
            "  -> Trocando 4 com 2\n",
            "  Estado atual: [3, 1, 2, 4, 5]\n",
            "\n",
            "Passagem 3:\n",
            "  Comparando 3 e 1\n",
            "  -> Trocando 3 com 1\n",
            "  Estado atual: [1, 3, 2, 4, 5]\n",
            "  Comparando 3 e 2\n",
            "  -> Trocando 3 com 2\n",
            "  Estado atual: [1, 2, 3, 4, 5]\n",
            "\n",
            "Passagem 4:\n",
            "  Comparando 1 e 2\n",
            "  -> Sem troca\n",
            "  Estado atual: [1, 2, 3, 4, 5]\n",
            "  Nenhuma troca feita nesta passagem. Lista já está ordenada.\n",
            "\n",
            "Lista final ordenada: [1, 2, 3, 4, 5]\n"
          ]
        }
      ]
    },
    {
      "cell_type": "code",
      "source": [
        "!pip install matplotlib\n"
      ],
      "metadata": {
        "colab": {
          "base_uri": "https://localhost:8080/"
        },
        "id": "ROCta4J7VjbZ",
        "outputId": "ff2e132c-c16b-49af-99d5-fee328042e09"
      },
      "execution_count": 5,
      "outputs": [
        {
          "output_type": "stream",
          "name": "stdout",
          "text": [
            "Requirement already satisfied: matplotlib in /usr/local/lib/python3.11/dist-packages (3.10.0)\n",
            "Requirement already satisfied: contourpy>=1.0.1 in /usr/local/lib/python3.11/dist-packages (from matplotlib) (1.3.2)\n",
            "Requirement already satisfied: cycler>=0.10 in /usr/local/lib/python3.11/dist-packages (from matplotlib) (0.12.1)\n",
            "Requirement already satisfied: fonttools>=4.22.0 in /usr/local/lib/python3.11/dist-packages (from matplotlib) (4.58.1)\n",
            "Requirement already satisfied: kiwisolver>=1.3.1 in /usr/local/lib/python3.11/dist-packages (from matplotlib) (1.4.8)\n",
            "Requirement already satisfied: numpy>=1.23 in /usr/local/lib/python3.11/dist-packages (from matplotlib) (2.0.2)\n",
            "Requirement already satisfied: packaging>=20.0 in /usr/local/lib/python3.11/dist-packages (from matplotlib) (24.2)\n",
            "Requirement already satisfied: pillow>=8 in /usr/local/lib/python3.11/dist-packages (from matplotlib) (11.2.1)\n",
            "Requirement already satisfied: pyparsing>=2.3.1 in /usr/local/lib/python3.11/dist-packages (from matplotlib) (3.2.3)\n",
            "Requirement already satisfied: python-dateutil>=2.7 in /usr/local/lib/python3.11/dist-packages (from matplotlib) (2.9.0.post0)\n",
            "Requirement already satisfied: six>=1.5 in /usr/local/lib/python3.11/dist-packages (from python-dateutil>=2.7->matplotlib) (1.17.0)\n"
          ]
        }
      ]
    },
    {
      "cell_type": "code",
      "source": [
        "import matplotlib.pyplot as plt\n",
        "import matplotlib.animation as animation\n",
        "import random\n",
        "\n",
        "# Função Bubble Sort modificada para gravar os passos\n",
        "def bubble_sort_animado(lista):\n",
        "    estados = [lista.copy()]\n",
        "    n = len(lista)\n",
        "\n",
        "    for i in range(n):\n",
        "        for j in range(n - i - 1):\n",
        "            if lista[j] > lista[j + 1]:\n",
        "                lista[j], lista[j + 1] = lista[j + 1], lista[j]\n",
        "                estados.append(lista.copy())  # Salva o novo estado da lista\n",
        "    return estados\n",
        "\n",
        "# Função de animação\n",
        "def animar_bubble_sort(estados):\n",
        "    fig, ax = plt.subplots()\n",
        "    barras = ax.bar(range(len(estados[0])), estados[0], color='skyblue')\n",
        "\n",
        "    def atualizar(frame):\n",
        "        for barra, altura in zip(barras, estados[frame]):\n",
        "            barra.set_height(altura)\n",
        "        ax.set_title(f\"Passo {frame + 1}/{len(estados)}\")\n",
        "\n",
        "    ani = animation.FuncAnimation(fig, atualizar, frames=len(estados), interval=500, repeat=False)\n",
        "    plt.show()\n",
        "\n",
        "# Testar com uma lista aleatória\n",
        "valores = random.sample(range(1, 11), 10)  # Lista com 10 valores aleatórios de 1 a 10\n",
        "print(\"Lista original:\", valores)\n",
        "\n",
        "estados = bubble_sort_animado(valores.copy())\n",
        "animar_bubble_sort(estados)\n"
      ],
      "metadata": {
        "colab": {
          "base_uri": "https://localhost:8080/",
          "height": 502
        },
        "id": "9c7pDE15V0DQ",
        "outputId": "6278924a-dc2e-4f22-df58-614e190b8865"
      },
      "execution_count": 6,
      "outputs": [
        {
          "output_type": "stream",
          "name": "stdout",
          "text": [
            "Lista original: [7, 4, 3, 8, 9, 2, 1, 10, 6, 5]\n"
          ]
        },
        {
          "output_type": "display_data",
          "data": {
            "text/plain": [
              "<Figure size 640x480 with 1 Axes>"
            ],
            "image/png": "[encoded data removed]"
          },
          "metadata": {}
        },
        {
          "output_type": "stream",
          "name": "stderr",
          "text": [
            "/usr/local/lib/python3.11/dist-packages/matplotlib/animation.py:908: UserWarning: Animation was deleted without rendering anything. This is most likely not intended. To prevent deletion, assign the Animation to a variable, e.g. `anim`, that exists until you output the Animation using `plt.show()` or `anim.save()`.\n",
            "  warnings.warn(\n"
          ]
        }
      ]
    },
    {
      "cell_type": "code",
      "source": [
        "#O que é o Selection Sort?\n",
        "#O algoritmo Selection Sort (ou Ordenação por Seleção) funciona assim:\n",
        "\n",
        "#Encontra o menor elemento da lista.\n",
        "\n",
        "#Coloca esse elemento na primeira posição.\n",
        "\n",
        "#Depois, encontra o menor elemento do restante da lista e coloca na segunda posição.\n",
        "\n",
        "#E assim por diante...\n",
        "\n",
        "#Ou seja: a cada passo, seleciona o menor elemento não ordenado e move para a posição correta."
      ],
      "metadata": {
        "id": "LRO9uS3gV6f4"
      },
      "execution_count": null,
      "outputs": []
    },
    {
      "cell_type": "code",
      "source": [
        "def selection_sort(lista):\n",
        "    n = len(lista)\n",
        "\n",
        "    for i in range(n):\n",
        "        indice_min = i\n",
        "\n",
        "        # Encontra o menor elemento no restante da lista\n",
        "        for j in range(i + 1, n):\n",
        "            if lista[j] < lista[indice_min]:\n",
        "                indice_min = j\n",
        "\n",
        "        # Troca o menor elemento encontrado com o elemento da posição i\n",
        "        lista[i], lista[indice_min] = lista[indice_min], lista[i]\n",
        "        print(f\"Passo {i + 1}: {lista}\")\n",
        "valores = [64, 25, 12, 22, 11]\n",
        "selection_sort(valores)\n",
        "print(\"Lista ordenada:\", valores)\n"
      ],
      "metadata": {
        "colab": {
          "base_uri": "https://localhost:8080/"
        },
        "id": "md1FZWZD2L2S",
        "outputId": "eaff2468-6358-45e3-b911-8b1d4e155d5f"
      },
      "execution_count": 1,
      "outputs": [
        {
          "output_type": "stream",
          "name": "stdout",
          "text": [
            "Passo 1: [11, 25, 12, 22, 64]\n",
            "Passo 2: [11, 12, 25, 22, 64]\n",
            "Passo 3: [11, 12, 22, 25, 64]\n",
            "Passo 4: [11, 12, 22, 25, 64]\n",
            "Passo 5: [11, 12, 22, 25, 64]\n",
            "Lista ordenada: [11, 12, 22, 25, 64]\n"
          ]
        }
      ]
    },
    {
      "cell_type": "code",
      "source": [
        "#Resumo:\n",
        "#Complexidade: O(n²)\n",
        "\n",
        "#Estável? Não (pode trocar elementos iguais de lugar)\n",
        "\n",
        "#Trocas: Faz no máximo uma troca por iteração\n",
        "\n",
        "#Útil: Quando você quer minimizar o número de trocas"
      ],
      "metadata": {
        "id": "3mukaKCF2omJ"
      },
      "execution_count": null,
      "outputs": []
    },
    {
      "cell_type": "code",
      "source": [
        "import matplotlib.pyplot as plt\n",
        "import matplotlib.animation as animation\n",
        "import random\n",
        "\n",
        "# Função Selection Sort com registro dos passos\n",
        "def selection_sort_animado(lista):\n",
        "    estados = [lista.copy()]\n",
        "    n = len(lista)\n",
        "\n",
        "    for i in range(n):\n",
        "        indice_min = i\n",
        "        for j in range(i + 1, n):\n",
        "            if lista[j] < lista[indice_min]:\n",
        "                indice_min = j\n",
        "        # Troca o menor elemento com o primeiro não ordenado\n",
        "        lista[i], lista[indice_min] = lista[indice_min], lista[i]\n",
        "        estados.append(lista.copy())\n",
        "    return estados\n",
        "\n",
        "# Função de animação\n",
        "def animar_selection_sort(estados):\n",
        "    fig, ax = plt.subplots()\n",
        "    barras = ax.bar(range(len(estados[0])), estados[0], color='orchid')\n",
        "\n",
        "    def atualizar(frame):\n",
        "        for barra, altura in zip(barras, estados[frame]):\n",
        "            barra.set_height(altura)\n",
        "        ax.set_title(f\"Passo {frame + 1}/{len(estados)}\")\n",
        "\n",
        "    ani = animation.FuncAnimation(fig, atualizar, frames=len(estados), interval=700, repeat=False)\n",
        "    plt.show()\n",
        "\n",
        "# Criar uma lista aleatória para testar\n",
        "valores = random.sample(range(1, 11), 10)\n",
        "print(\"Lista original:\", valores)\n",
        "\n",
        "# Aplicar e animar\n",
        "estados = selection_sort_animado(valores.copy())\n",
        "animar_selection_sort(estados)\n"
      ],
      "metadata": {
        "colab": {
          "base_uri": "https://localhost:8080/",
          "height": 502
        },
        "id": "B0R5HpyH2yhT",
        "outputId": "3d9bd99f-b99c-40d9-aa31-ebad19732a08"
      },
      "execution_count": 2,
      "outputs": [
        {
          "output_type": "stream",
          "name": "stdout",
          "text": [
            "Lista original: [6, 9, 1, 4, 10, 5, 7, 3, 2, 8]\n"
          ]
        },
        {
          "output_type": "display_data",
          "data": {
            "text/plain": [
              "<Figure size 640x480 with 1 Axes>"
            ],
            "image/png": "[encoded data removed]"
          },
          "metadata": {}
        },
        {
          "output_type": "stream",
          "name": "stderr",
          "text": [
            "/usr/local/lib/python3.11/dist-packages/matplotlib/animation.py:908: UserWarning: Animation was deleted without rendering anything. This is most likely not intended. To prevent deletion, assign the Animation to a variable, e.g. `anim`, that exists until you output the Animation using `plt.show()` or `anim.save()`.\n",
            "  warnings.warn(\n"
          ]
        }
      ]
    },
    {
      "cell_type": "markdown",
      "source": [
        "O que é o Insertion Sort?\n",
        "O Insertion Sort (Ordenação por Inserção) funciona como se você estivesse organizando cartas na mão:\n",
        "\n",
        "Começa com o segundo elemento e o compara com os anteriores.\n",
        "\n",
        "Vai \"empurrando\" os elementos maiores para frente até encontrar a posição correta.\n",
        "\n",
        "Insere o elemento naquela posição.\n",
        "\n",
        "Repete até o final da lista.\n",
        "\n",
        "Exemplo rápido:\n",
        "Lista: [5, 2, 4, 6, 1, 3]\n",
        "\n",
        "Passo 1: 2 < 5 → [2, 5, 4, 6, 1, 3]\n",
        "\n",
        "Passo 2: 4 < 5 → [2, 4, 5, 6, 1, 3]\n",
        "\n",
        "Passo 3: 6 → fica → [2, 4, 5, 6, 1, 3]\n",
        "\n",
        "Passo 4: 1 → move tudo → [1, 2, 4, 5, 6, 3]\n",
        "\n",
        "Passo 5: 3 → se encaixa → [1, 2, 3, 4, 5, 6]"
      ],
      "metadata": {
        "id": "7M0nO7Vq5ASW"
      }
    },
    {
      "cell_type": "code",
      "source": [
        "def insertion_sort(lista):\n",
        "    n = len(lista)\n",
        "    for i in range(1, n):\n",
        "        chave = lista[i]\n",
        "        j = i - 1\n",
        "        while j >= 0 and lista[j] > chave:\n",
        "            lista[j + 1] = lista[j]\n",
        "            j -= 1\n",
        "        lista[j + 1] = chave\n",
        "        print(f\"Passo {i}: {lista}\")\n",
        "valores = [5, 2, 4, 6, 1, 3]\n",
        "insertion_sort(valores)\n",
        "print(\"Lista ordenada:\", valores)\n"
      ],
      "metadata": {
        "colab": {
          "base_uri": "https://localhost:8080/"
        },
        "id": "DRKTZNSx5CMQ",
        "outputId": "a1b67063-aa75-4327-e739-7801614d2ac9"
      },
      "execution_count": 3,
      "outputs": [
        {
          "output_type": "stream",
          "name": "stdout",
          "text": [
            "Passo 1: [2, 5, 4, 6, 1, 3]\n",
            "Passo 2: [2, 4, 5, 6, 1, 3]\n",
            "Passo 3: [2, 4, 5, 6, 1, 3]\n",
            "Passo 4: [1, 2, 4, 5, 6, 3]\n",
            "Passo 5: [1, 2, 3, 4, 5, 6]\n",
            "Lista ordenada: [1, 2, 3, 4, 5, 6]\n"
          ]
        }
      ]
    },
    {
      "cell_type": "code",
      "source": [
        "import matplotlib.pyplot as plt\n",
        "import matplotlib.animation as animation\n",
        "import random\n",
        "\n",
        "# Função de Insertion Sort que grava os estados da lista\n",
        "def insertion_sort_animado(lista):\n",
        "    estados = [lista.copy()]\n",
        "    n = len(lista)\n",
        "\n",
        "    for i in range(1, n):\n",
        "        chave = lista[i]\n",
        "        j = i - 1\n",
        "        while j >= 0 and lista[j] > chave:\n",
        "            lista[j + 1] = lista[j]\n",
        "            j -= 1\n",
        "            estados.append(lista.copy())  # Registra cada movimentação\n",
        "        lista[j + 1] = chave\n",
        "        estados.append(lista.copy())  # Registra a inserção\n",
        "    return estados\n",
        "\n",
        "# Função para animar os estados\n",
        "def animar_insertion_sort(estados):\n",
        "    fig, ax = plt.subplots()\n",
        "    barras = ax.bar(range(len(estados[0])), estados[0], color='skyblue')\n",
        "\n",
        "    def atualizar(frame):\n",
        "        for barra, altura in zip(barras, estados[frame]):\n",
        "            barra.set_height(altura)\n",
        "        ax.set_title(f\"Insertion Sort - Passo {frame + 1}/{len(estados)}\")\n",
        "\n",
        "    ani = animation.FuncAnimation(fig, atualizar, frames=len(estados), interval=700, repeat=False)\n",
        "    plt.show()\n",
        "\n",
        "# Criar lista de teste\n",
        "valores = random.sample(range(1, 11), 10)\n",
        "print(\"Lista original:\", valores)\n",
        "\n",
        "# Aplicar o Insertion Sort com gravação dos passos\n",
        "estados = insertion_sort_animado(valores.copy())\n",
        "\n",
        "# Animar\n",
        "animar_insertion_sort(estados)\n"
      ],
      "metadata": {
        "colab": {
          "base_uri": "https://localhost:8080/",
          "height": 447
        },
        "id": "Y_ic-WPh5Xwf",
        "outputId": "4989930b-82f3-4464-dc7a-a0e5ee02fc5a"
      },
      "execution_count": 4,
      "outputs": [
        {
          "output_type": "stream",
          "name": "stdout",
          "text": [
            "Lista original: [1, 8, 4, 6, 10, 3, 9, 7, 5, 2]\n"
          ]
        },
        {
          "output_type": "display_data",
          "data": {
            "text/plain": [
              "<Figure size 640x480 with 1 Axes>"
            ],
            "image/png": "[encoded data removed]"
          },
          "metadata": {}
        }
      ]
    }
  ]
}